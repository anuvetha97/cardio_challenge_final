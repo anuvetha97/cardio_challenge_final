{
  "cells": [
    {
      "cell_type": "code",
      "execution_count": 1,
      "metadata": {
        "colab": {
          "base_uri": "https://localhost:8080/"
        },
        "id": "hVk8KoiVnTUH",
        "outputId": "4a367826-ac02-4064-985c-839141405a4d"
      },
      "outputs": [
        {
          "output_type": "stream",
          "name": "stdout",
          "text": [
            "Mounted at /content/drive\n"
          ]
        }
      ],
      "source": [
        "import pandas as pd\n",
        "import numpy as np\n",
        "import matplotlib.pyplot as plt\n",
        "import torch\n",
        "import torch.nn as nn\n",
        "import torch.optim as optim\n",
        "from sklearn.model_selection import train_test_split\n",
        "from sklearn.preprocessing import StandardScaler\n",
        "# Load the Drive helper and mount\n",
        "from google.colab import drive\n",
        "\n",
        "# This will prompt for authorization.\n",
        "drive.mount('/content/drive')"
      ]
    },
    {
      "cell_type": "code",
      "execution_count": 2,
      "metadata": {
        "id": "LTo_iOOAnTUH"
      },
      "outputs": [],
      "source": [
        "df_ptbd_normal = pd.read_csv(\"/content/drive/My Drive/Task_1/ptbdb_normal.csv\", header = None)\n",
        "df_ptbd_abnormal = pd.read_csv(\"/content/drive/My Drive/Task_1/ptbdb_abnormal.csv\", header = None)\n",
        "\n",
        "# classes are 0 (normal) and 1 (abnormal)\n",
        "classes_names = {0 : \"normal\",\n",
        "                 1 : \"abnormal\"}\n",
        "\n",
        "num_cols = df_ptbd_normal.shape[1] - 1\n",
        "\n",
        "# the signal was resampled at frequency of 125Hz as the input\n",
        "# compute the time vector\n",
        "time = np.arange(0, num_cols) / 125\n",
        "# convert to milliseconds\n",
        "time = time * 1000\n",
        "\n",
        "# concatenate the two dataframes\n",
        "df_ptbd = pd.concat([df_ptbd_normal, df_ptbd_abnormal],axis=0,ignore_index=True)\n",
        "\n",
        "# The last column contains the labels\n",
        "# label 0 = normal\n",
        "# label 1 = abnormal\n",
        "df_ptbd =df_ptbd.rename(columns={187: 'label'})"
      ]
    },
    {
      "cell_type": "code",
      "execution_count": 4,
      "metadata": {
        "colab": {
          "base_uri": "https://localhost:8080/"
        },
        "id": "2iVQEDHoGYKV",
        "outputId": "e94443ae-7c63-4e5c-9b9d-fea1cf740bdb"
      },
      "outputs": [
        {
          "output_type": "stream",
          "name": "stdout",
          "text": [
            "PREVIOUS SHAPE: \n",
            " X SHAPE:  (14552, 187)\n",
            "PREVIOUS SHAPE: \n",
            " Y SHAPE:  (14552,)\n",
            "\n",
            "\n",
            "CURRENT SHAPE: \n",
            " X SHAPE:  torch.Size([14552, 187])\n",
            "\n",
            "CURRENT SHAPE: \n",
            " y SHAPE:  torch.Size([14552, 1])\n"
          ]
        }
      ],
      "source": [
        "X = df_ptbd.iloc[:, :187].values # Getting all columns except the last (b/c of label)\n",
        "y = df_ptbd.iloc[:, 187].values\n",
        "print(\"PREVIOUS SHAPE: \\n\", \"X SHAPE: \", X.shape)\n",
        "print(\"PREVIOUS SHAPE: \\n\", \"Y SHAPE: \", y.shape)\n",
        "\n",
        "X = X.reshape(-1, 187) # Reshapes X to (# of rows, 187)\n",
        "y = y.reshape(-1, 1) # Reshapes y to (# of rows, 1)\n",
        "\n",
        "X_tensor = torch.tensor(X, dtype=torch.float32)\n",
        "y_tensor = torch.tensor(y, dtype=torch.float32)\n",
        "\n",
        "print(\"\\n\\nCURRENT SHAPE: \\n\", \"X SHAPE: \", X_tensor.shape)\n",
        "print(\"\\nCURRENT SHAPE: \\n\", \"y SHAPE: \", y_tensor.shape)"
      ]
    },
    {
      "cell_type": "code",
      "execution_count": 29,
      "metadata": {
        "colab": {
          "base_uri": "https://localhost:8080/"
        },
        "id": "guifSxRXGqqO",
        "outputId": "27f3c294-8943-4ce4-ea92-6b190c18f251"
      },
      "outputs": [
        {
          "output_type": "stream",
          "name": "stderr",
          "text": [
            "<ipython-input-29-719041717c40>:15: UserWarning: To copy construct from a tensor, it is recommended to use sourceTensor.clone().detach() or sourceTensor.clone().detach().requires_grad_(True), rather than torch.tensor(sourceTensor).\n",
            "  y_tt_tensor = torch.tensor(y_tt, dtype=torch.float32)\n",
            "<ipython-input-29-719041717c40>:17: UserWarning: To copy construct from a tensor, it is recommended to use sourceTensor.clone().detach() or sourceTensor.clone().detach().requires_grad_(True), rather than torch.tensor(sourceTensor).\n",
            "  y_val_tensor = torch.tensor(y_val, dtype=torch.float32)\n",
            "<ipython-input-29-719041717c40>:19: UserWarning: To copy construct from a tensor, it is recommended to use sourceTensor.clone().detach() or sourceTensor.clone().detach().requires_grad_(True), rather than torch.tensor(sourceTensor).\n",
            "  y_test_tensor = torch.tensor(y_test, dtype=torch.float32)\n"
          ]
        }
      ],
      "source": [
        "# Split into training and test sets (80 - 20)\n",
        "X_train, X_test, y_train, y_test = train_test_split(X_tensor, y_tensor, test_size=0.2, random_state=42)\n",
        "\n",
        "X_tt, X_val, y_tt, y_val = train_test_split(X_train, y_train, test_size=0.2, random_state=42)\n",
        "\n",
        "# Normalize data\n",
        "scaler = StandardScaler()\n",
        "X_tt = scaler.fit_transform(X_tt)\n",
        "X_val = scaler.fit_transform(X_val)\n",
        "X_test = scaler.transform(X_test)\n",
        "\n",
        "\n",
        "# Convert to PyTorch tensors\n",
        "X_tt_tensor = torch.tensor(X_tt, dtype=torch.float32)\n",
        "y_tt_tensor = torch.tensor(y_tt, dtype=torch.float32)\n",
        "X_val_tensor = torch.tensor(X_val, dtype=torch.float32)\n",
        "y_val_tensor = torch.tensor(y_val, dtype=torch.float32)\n",
        "X_test_tensor = torch.tensor(X_test, dtype=torch.float32)\n",
        "y_test_tensor = torch.tensor(y_test, dtype=torch.float32)\n",
        "\n",
        "# Define Neural Network\n",
        "class NeuralNet(nn.Module):\n",
        "    def __init__(self):\n",
        "        super(NeuralNet, self).__init__()\n",
        "\n",
        "        # Define layers\n",
        "        self.fc1 = nn.Linear(187, 64)\n",
        "        self.relu = nn.ReLU()\n",
        "\n",
        "        self.fc2 = nn.Linear(64, 32)\n",
        "        self.relu = nn.ReLU()\n",
        "\n",
        "        # Softmax Layer\n",
        "        self.fc3 = nn.Linear(32, 1)\n",
        "        self.softmax = nn.Sigmoid()\n",
        "\n",
        "    # Define forward pass (how inputs move through already defined Network)\n",
        "    def forward(self, x):\n",
        "        out = self.fc1(x)\n",
        "        out = self.relu(out)\n",
        "\n",
        "        out = self.fc2(out)\n",
        "        out = self.relu(out)\n",
        "\n",
        "        out = self.fc3(out)\n",
        "        out = self.softmax(out)\n",
        "\n",
        "        return out\n",
        "\n",
        "\n",
        "model = NeuralNet()\n",
        "criterion = nn.BCELoss() # Binary Cross-Entropy Loss\n",
        "optimizer = optim.Adam(model.parameters(), lr=0.0005) # Adam Optimizer"
      ]
    },
    {
      "cell_type": "code",
      "execution_count": 30,
      "metadata": {
        "id": "qKziI0u2HawB"
      },
      "outputs": [],
      "source": [
        "# Getting Epoc and Batch Sizes Defined\n",
        "num_epochs = 100\n",
        "batch_size = 16"
      ]
    },
    {
      "cell_type": "code",
      "execution_count": 31,
      "metadata": {
        "colab": {
          "base_uri": "https://localhost:8080/",
          "height": 805
        },
        "id": "G0-1SgNFHfmP",
        "outputId": "5c077904-ea28-4eef-cfa9-45b49460b41b"
      },
      "outputs": [
        {
          "output_type": "stream",
          "name": "stdout",
          "text": [
            "Epoch 0/100 -- Loss: 0.2157\n",
            "Epoch 5/100 -- Loss: 0.0519\n",
            "Epoch 10/100 -- Loss: 0.0305\n",
            "Epoch 15/100 -- Loss: 0.0260\n",
            "Epoch 20/100 -- Loss: 0.0404\n",
            "Epoch 25/100 -- Loss: 0.0368\n",
            "Epoch 30/100 -- Loss: 0.1003\n",
            "Epoch 35/100 -- Loss: 0.0174\n",
            "Epoch 40/100 -- Loss: 0.0707\n",
            "Epoch 45/100 -- Loss: 0.0007\n",
            "Epoch 50/100 -- Loss: 0.0013\n",
            "Epoch 55/100 -- Loss: 0.0025\n",
            "Epoch 60/100 -- Loss: 0.0001\n",
            "Epoch 65/100 -- Loss: 0.0001\n",
            "Epoch 70/100 -- Loss: 0.1925\n",
            "Epoch 75/100 -- Loss: 0.0002\n",
            "Epoch 80/100 -- Loss: 0.0295\n",
            "Epoch 85/100 -- Loss: 0.0074\n",
            "Epoch 90/100 -- Loss: 0.0011\n",
            "Epoch 95/100 -- Loss: 0.0001\n",
            "Epoch 100/100 -- Loss: 0.0001\n"
          ]
        },
        {
          "output_type": "display_data",
          "data": {
            "text/plain": [
              "<Figure size 640x480 with 1 Axes>"
            ],
            "image/png": "[encoded data removed]"
          },
          "metadata": {}
        }
      ],
      "source": [
        "loss_list = []\n",
        "for epoch in range(num_epochs + 1):\n",
        "   # Mini Batch Training\n",
        "    for i in range(0, len(X_tt), batch_size):\n",
        "      # Create Splices of Data\n",
        "        batch_X = X_tt_tensor[i:i+batch_size]\n",
        "        batch_y = y_tt_tensor[i:i+batch_size]\n",
        "\n",
        "        # Forward Pass\n",
        "        outputs = model(batch_X)\n",
        "        loss = criterion(outputs, batch_y)\n",
        "\n",
        "        # Backward Pass (Backpropagation)\n",
        "        optimizer.zero_grad()\n",
        "        loss.backward()\n",
        "        optimizer.step()\n",
        "\n",
        "    if(epoch % 5 == 0):\n",
        "        loss_list.append(loss.item())\n",
        "        print(f\"Epoch {epoch}/{num_epochs} -- Loss: {loss.item():.4f}\")\n",
        "\n",
        "# Plot Loss\n",
        "x = range(len(loss_list))\n",
        "y = loss_list\n",
        "plt.plot(x, y)\n",
        "plt.show()"
      ]
    },
    {
      "cell_type": "code",
      "execution_count": 32,
      "metadata": {
        "colab": {
          "base_uri": "https://localhost:8080/"
        },
        "id": "wPdKD09gH5sI",
        "outputId": "a375e526-f5aa-42e4-c59a-bfdb81fdc774"
      },
      "outputs": [
        {
          "output_type": "stream",
          "name": "stdout",
          "text": [
            "Test Accuracy: 0.9647917561185058\n"
          ]
        }
      ],
      "source": [
        "# Evaluate the model on validation set\n",
        "with torch.no_grad():\n",
        "    outputs = model(X_val_tensor)\n",
        "    predicted_labels = torch.round(outputs)\n",
        "    accuracy = (predicted_labels == y_val_tensor).sum().item() / y_val_tensor.size(0)\n",
        "    print(\"Test Accuracy:\", accuracy)"
      ]
    },
    {
      "cell_type": "code",
      "execution_count": 33,
      "metadata": {
        "colab": {
          "base_uri": "https://localhost:8080/"
        },
        "id": "AfacP4YQWR2o",
        "outputId": "1182f841-6b15-4250-eff1-c79d38110c36"
      },
      "outputs": [
        {
          "output_type": "stream",
          "name": "stdout",
          "text": [
            "Test Accuracy: 0.9704568876674682\n"
          ]
        }
      ],
      "source": [
        "# Evaluate the model on test set\n",
        "with torch.no_grad():\n",
        "    outputs = model(X_test_tensor)\n",
        "    predicted_labels = torch.round(outputs)\n",
        "    accuracy = (predicted_labels == y_test_tensor).sum().item() / y_test_tensor.size(0)\n",
        "    print(\"Test Accuracy:\", accuracy)"
      ]
    }
  ],
  "metadata": {
    "colab": {
      "provenance": []
    },
    "kernelspec": {
      "display_name": "Python 3 (ipykernel)",
      "language": "python",
      "name": "python3"
    },
    "language_info": {
      "codemirror_mode": {
        "name": "ipython",
        "version": 3
      },
      "file_extension": ".py",
      "mimetype": "text/x-python",
      "name": "python",
      "nbconvert_exporter": "python",
      "pygments_lexer": "ipython3",
      "version": "3.12.0"
    }
  },
  "nbformat": 4,
  "nbformat_minor": 0
}