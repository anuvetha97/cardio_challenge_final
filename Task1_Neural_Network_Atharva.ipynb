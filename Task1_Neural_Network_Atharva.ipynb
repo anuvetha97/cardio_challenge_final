{
  "nbformat": 4,
  "nbformat_minor": 0,
  "metadata": {
    "colab": {
      "provenance": []
    },
    "kernelspec": {
      "name": "python3",
      "display_name": "Python 3"
    },
    "language_info": {
      "name": "python"
    }
  },
  "cells": [
    {
      "cell_type": "code",
      "source": [
        "# Task 1\n",
        "#\n",
        "# Binary classification: clasify normal and abnormal rythms\n",
        "# %%w\n",
        "import pandas as pd\n",
        "import numpy as np\n",
        "import matplotlib.pyplot as plt\n",
        "%matplotlib inline\n",
        "import torch\n",
        "import torch.nn as nn\n",
        "import torch.nn.functional as F\n",
        "from sklearn.model_selection import train_test_split\n",
        "from sklearn.metrics import confusion_matrix\n",
        "# If you are loading the data from drive, load the Drive helper and mount\n",
        "from google.colab import drive\n",
        "\n",
        "# This will prompt for authorization.\n",
        "drive.mount('/content/drive')"
      ],
      "metadata": {
        "colab": {
          "base_uri": "https://localhost:8080/"
        },
        "id": "l_TeziWIasLj",
        "outputId": "f79a97c1-9ce9-42bb-c680-5fa0497e65c3"
      },
      "execution_count": 1,
      "outputs": [
        {
          "output_type": "stream",
          "name": "stdout",
          "text": [
            "Mounted at /content/drive\n"
          ]
        }
      ]
    },
    {
      "cell_type": "code",
      "source": [
        "df_ptbd_normal = pd.read_csv(\"/content/drive/My Drive/Task_1/ptbdb_normal.csv\", header = None)\n",
        "df_ptbd_abnormal = pd.read_csv(\"/content/drive/My Drive/Task_1/ptbdb_abnormal.csv\", header = None)\n",
        "df_ptbd = pd.concat([df_ptbd_normal, df_ptbd_abnormal], axis = 0, ignore_index=True)\n",
        "df_ptbd =df_ptbd.rename(columns={187: 'label'})\n",
        "# classes are 0 (normal) and 1 (abnormal)\n",
        "classes_names = {0 : \"normal\",\n",
        "                 1 : \"abnormal\"}\n",
        "\n",
        "# get the number of columns in the dataframe\n",
        "# the last column is the label/class\n",
        "num_cols = df_ptbd_normal.shape[1] - 1\n",
        "# the signal was resampled at frequency of 125Hz as the input\n",
        "# compute the time vector\n",
        "time = np.arange(0, num_cols) / 125\n",
        "# convert to milliseconds\n",
        "time = time * 1000\n",
        "# print last time value\n",
        "print(\"The last time value is : \", time[-1])\n"
      ],
      "metadata": {
        "colab": {
          "base_uri": "https://localhost:8080/"
        },
        "id": "O0O984f7a4lo",
        "outputId": "e63c8233-6d9e-487f-8b0b-facc13423a6c"
      },
      "execution_count": 40,
      "outputs": [
        {
          "output_type": "stream",
          "name": "stdout",
          "text": [
            "The last time value is :  1488.0\n"
          ]
        }
      ]
    },
    {
      "cell_type": "code",
      "source": [
        "X = df_ptbd.drop('label', axis=1)\n",
        "y = df_ptbd['label']\n",
        "\n",
        "# %%\n",
        "X = X.values\n",
        "y = y.values\n",
        "\n",
        "# %%\n",
        "X_train, X_test, y_train, y_test = train_test_split(X, y, test_size=0.3, random_state=41)\n",
        "\n",
        "# %%\n",
        "#training-validation split goes here\n",
        "X_train, X_val, y_train, y_val = train_test_split(X_train, y_train, test_size=0.3, random_state=41)\n"
      ],
      "metadata": {
        "id": "ewN5no1Ebua3"
      },
      "execution_count": 41,
      "outputs": []
    },
    {
      "cell_type": "code",
      "source": [
        "# %%\n",
        "X_train = torch.FloatTensor(X_train)\n",
        "X_test = torch.FloatTensor(X_test)\n",
        "X_val = torch.FloatTensor(X_val)\n",
        "\n",
        "#labels of regular/irregular heartbeats are 0, 1 respectively\n",
        "y_train = torch.LongTensor(y_train)\n",
        "y_test = torch.LongTensor(y_test)\n",
        "y_val = torch.LongTensor(y_val)\n"
      ],
      "metadata": {
        "id": "2PlOIny2cCRP"
      },
      "execution_count": 42,
      "outputs": []
    },
    {
      "cell_type": "code",
      "source": [
        "# %%\n",
        "class Model(nn.Module):\n",
        "    def __init__(self, in_features=187, h1=64, h2= 32, out_features=2):\n",
        "      super().__init__() #this instantiates nn.Module\n",
        "      self.fc1 = nn.Linear(in_features, h1)\n",
        "      #self.dropout1 = nn.Dropout(p=0.4)\n",
        "      self.fc2 = nn.Linear(h1, h2)\n",
        "      #self.dropout2 = nn.Dropout(p=0.2)\n",
        "      self.out = nn.Linear(h2, out_features)\n",
        "\n",
        "    def forward_prop(self, a):\n",
        "      a = F.relu(self.fc1(a))\n",
        "      a = F.relu(self.fc2(a))\n",
        "      a = self.out(a)\n",
        "      a = F.sigmoid(a)\n",
        "      return a\n",
        "\n",
        "# %%\n",
        "#initialises the model with a particular set of random weights and biases\n",
        "torch.manual_seed(41)\n",
        "#create an instance of out model\n",
        "model = Model()\n",
        "\n",
        "# %%\n",
        "#set the cost function of the model\n",
        "#in this case the loss function is CrossEntropyLoss\n",
        "loss_function = nn.CrossEntropyLoss()\n",
        "#chose the type of gradient descent/optimisation algorithm\n",
        "#using an 'Adam' optimiser\n",
        "optimizer = torch.optim.Adam(model.parameters(), lr=0.0035)\n"
      ],
      "metadata": {
        "id": "PHtt8x25cpRg"
      },
      "execution_count": 49,
      "outputs": []
    },
    {
      "cell_type": "code",
      "source": [
        "#train the model\n",
        "#1 Epoch: one run through all training data in the network\n",
        "epochs = 240\n",
        "#losses array keeps track of accuracy as we improve the network\n",
        "losses = []\n",
        "for i in range(epochs):\n",
        "    a = model.forward_prop(X_train)\n",
        "    #measures the loss for the output activation and the label\n",
        "    a = a.squeeze()\n",
        "    loss = loss_function(a, y_train)\n",
        "    losses.append(loss.detach().numpy())\n",
        "    if i%10==0:\n",
        "      print(f\"Epoch: {i}, loss: {loss}\")\n",
        "\n",
        "    #back_prop\n",
        "    optimizer.zero_grad()\n",
        "    loss.backward()\n",
        "    optimizer.step()"
      ],
      "metadata": {
        "colab": {
          "base_uri": "https://localhost:8080/"
        },
        "id": "SvO6fTfDcp-6",
        "outputId": "249c8c56-0d58-4e90-9cee-e6b7f2385aed"
      },
      "execution_count": 50,
      "outputs": [
        {
          "output_type": "stream",
          "name": "stdout",
          "text": [
            "Epoch: 0, loss: 0.6930049061775208\n",
            "Epoch: 10, loss: 0.5848344564437866\n",
            "Epoch: 20, loss: 0.579129695892334\n",
            "Epoch: 30, loss: 0.5567658543586731\n",
            "Epoch: 40, loss: 0.5464826226234436\n",
            "Epoch: 50, loss: 0.5260918736457825\n",
            "Epoch: 60, loss: 0.5039026737213135\n",
            "Epoch: 70, loss: 0.4885127544403076\n",
            "Epoch: 80, loss: 0.47719377279281616\n",
            "Epoch: 90, loss: 0.46523070335388184\n",
            "Epoch: 100, loss: 0.4548846483230591\n",
            "Epoch: 110, loss: 0.4457569420337677\n",
            "Epoch: 120, loss: 0.4380505084991455\n",
            "Epoch: 130, loss: 0.43087446689605713\n",
            "Epoch: 140, loss: 0.42352163791656494\n",
            "Epoch: 150, loss: 0.4173233211040497\n",
            "Epoch: 160, loss: 0.4120109975337982\n",
            "Epoch: 170, loss: 0.40759873390197754\n",
            "Epoch: 180, loss: 0.40325111150741577\n",
            "Epoch: 190, loss: 0.3998577892780304\n",
            "Epoch: 200, loss: 0.39569979906082153\n",
            "Epoch: 210, loss: 0.3923734724521637\n",
            "Epoch: 220, loss: 0.38966721296310425\n",
            "Epoch: 230, loss: 0.38779231905937195\n"
          ]
        }
      ]
    },
    {
      "cell_type": "code",
      "source": [
        "# %%\n",
        "def model_accuracy_no_grad(x_data, y_data):\n",
        "    correct = 0\n",
        "    with torch.no_grad():\n",
        "      for i, data in enumerate(x_data): #iterates through each image\n",
        "        y_eval = model.forward_prop(data)\n",
        "        if y_eval.argmax().item() == y_data[i]:\n",
        "          correct +=1\n",
        "    return (correct/len(x_data))*100\n",
        "\n",
        "# %%\n",
        "def model_accuracy(x_data, y_data):\n",
        "    correct = 0\n",
        "    for i, data in enumerate(x_data): #iterates through each image\n",
        "      y_eval = model.forward_prop(data)\n",
        "      if y_eval.argmax().item() == y_data[i]:\n",
        "        correct +=1\n",
        "    return (correct/len(x_data))*100\n",
        "\n",
        "\n",
        "# %%\n",
        "model_accuracy(X_train, y_train)\n",
        "\n",
        "# %%\n",
        "plt.plot(range(epochs), losses)\n",
        "plt.ylabel(\"loss\")\n",
        "plt.xlabel(\"epochs\")\n",
        "plt.title(\"Loss functions over epochs (training data)\")\n",
        "\n",
        "# %%\n",
        "with torch.no_grad(): #turns off backprop\n",
        "    y_eval = model.forward_prop(X_test)\n",
        "    loss = loss_function(y_eval.squeeze(), y_test)\n",
        "loss"
      ],
      "metadata": {
        "colab": {
          "base_uri": "https://localhost:8080/",
          "height": 490
        },
        "id": "Wm1DQLhscuHL",
        "outputId": "c38eeba1-4b4c-416d-b028-a1eeddbfc413"
      },
      "execution_count": 51,
      "outputs": [
        {
          "output_type": "execute_result",
          "data": {
            "text/plain": [
              "tensor(0.4133)"
            ]
          },
          "metadata": {},
          "execution_count": 51
        },
        {
          "output_type": "display_data",
          "data": {
            "text/plain": [
              "<Figure size 640x480 with 1 Axes>"
            ],
            "image/png": "[encoded data removed]"
          },
          "metadata": {}
        }
      ]
    },
    {
      "cell_type": "code",
      "source": [
        "print(model_accuracy_no_grad(X_val, y_val))\n",
        "\n",
        "# %%\n",
        "print(model_accuracy_no_grad(X_test,y_test))\n"
      ],
      "metadata": {
        "colab": {
          "base_uri": "https://localhost:8080/"
        },
        "id": "Ehbt97RUhk_H",
        "outputId": "b9322273-eae9-47f7-c1a3-cb6b88c7f005"
      },
      "execution_count": 52,
      "outputs": [
        {
          "output_type": "stream",
          "name": "stdout",
          "text": [
            "89.62696335078533\n",
            "89.85341273476867\n"
          ]
        }
      ]
    }
  ]
}